{
 "cells": [
  {
   "cell_type": "code",
   "execution_count": 1,
   "metadata": {
    "colab": {
     "base_uri": "https://localhost:8080/"
    },
    "id": "wRQLye8AVYLd",
    "outputId": "b3f4b632-3788-46ee-b3b0-182c99820198"
   },
   "outputs": [
    {
     "name": "stdout",
     "output_type": "stream",
     "text": [
      "Requirement already satisfied: torch==1.11.0 in /Users/zhangyuqian/opt/anaconda3/lib/python3.9/site-packages (1.11.0)\r\n",
      "Requirement already satisfied: typing-extensions in /Users/zhangyuqian/opt/anaconda3/lib/python3.9/site-packages (from torch==1.11.0) (4.1.1)\r\n"
     ]
    }
   ],
   "source": [
    "!pip install torch==1.11.0"
   ]
  },
  {
   "cell_type": "markdown",
   "metadata": {
    "id": "HE-JA027Vx3v"
   },
   "source": [
    "# 1 Import package"
   ]
  },
  {
   "cell_type": "code",
   "execution_count": 2,
   "metadata": {
    "id": "ylws6sb1VkJG"
   },
   "outputs": [],
   "source": [
    "# import open method from io toolkit\n",
    "from io import open\n",
    "# for character normalization\n",
    "import unicodedata\n",
    "# for regular expressions\n",
    "import re\n",
    "# for random data generation\n",
    "import random\n",
    "# import torch toolkit for building network structures and functions\n",
    "import torch\n",
    "import torch.nn as nn\n",
    "import torch.nn.functional as F\n",
    "# import toolkit of predefined optimization methods in torch\n",
    "from torch import optim\n",
    "# device selection, choose to run the code on cuda or cpu\n",
    "device = torch.device(\"cuda\" if torch.cuda.is_available() else \"cpu\")"
   ]
  },
  {
   "cell_type": "markdown",
   "metadata": {
    "id": "HFU7O_UDV43q"
   },
   "source": [
    "# 2 Data Preprocessing"
   ]
  },
  {
   "cell_type": "markdown",
   "metadata": {
    "id": "xCk-uRyHXhLH"
   },
   "source": [
    "# 2.1 Mapping words in a given language to values"
   ]
  },
  {
   "cell_type": "code",
   "execution_count": 3,
   "metadata": {
    "id": "7EB5k3J9VsWG"
   },
   "outputs": [],
   "source": [
    "# start sign\n",
    "SOS_token = 0\n",
    "# end sign\n",
    "EOS_token = 1\n",
    "\n",
    "class Lang:\n",
    "    def __init__(self, name):\n",
    "        \"\"\"The parameter 'name' in the initialization function represents the name of a language passed in\"\"\"\n",
    "        # pass the name into the class\n",
    "        self.name = name\n",
    "        # initialize the dictionary of words corresponding to natural values\n",
    "        self.word2index = {}\n",
    "        # initialize the dictionary of natural values corresponding to the vocabulary, where 0, 1 corresponding to SOS and EOS are already in it\n",
    "        self.index2word = {0: \"SOS\", 1: \"EOS\"}\n",
    "        # initialize the index of the natural number corresponding to the vocabulary, starting from 2 here, because 0, 1 are already occupied by the start and end flags\n",
    "        self.n_words = 2  \n",
    "\n",
    "    def addSentence(self, sentence):\n",
    "        \"\"\"Add a sentence function, which converts a sentence into a sequence of values, with the input parameter 'sentence' being a sentence\"\"\"\n",
    "        # segment the sentences according to the language characteristics of the country in general (the languages here are divided into words by spaces), and obtain the corresponding list of words\n",
    "        for word in sentence.split(' '):\n",
    "            # call addWord for processing\n",
    "            self.addWord(word)\n",
    "\n",
    "\n",
    "    def addWord(self, word):\n",
    "        \"\"\"Add a vocabulary function, which converts a vocabulary into a corresponding value, with the input parameter 'word' being a word\"\"\"\n",
    "        # determine if the word is already in the key of the self.word2index dictionary\n",
    "        if word not in self.word2index:\n",
    "            # if not, add this word to the dictionary, and assign a value to this word, i.e. self.n_words\n",
    "            self.word2index[word] = self.n_words\n",
    "            # add its inverted form to self.index2word simultaneously\n",
    "            self.index2word[self.n_words] = word\n",
    "            # if self.n_words is occupied, add 1 each time to turn it into a new self.n_words\n",
    "            self.n_words += 1"
   ]
  },
  {
   "cell_type": "markdown",
   "metadata": {},
   "source": [
    "*Instantiate parameters*"
   ]
  },
  {
   "cell_type": "code",
   "execution_count": 4,
   "metadata": {
    "id": "hbJB8ABLWAUh"
   },
   "outputs": [],
   "source": [
    "name = \"eng\""
   ]
  },
  {
   "cell_type": "markdown",
   "metadata": {},
   "source": [
    "*Input Parameters*"
   ]
  },
  {
   "cell_type": "code",
   "execution_count": 5,
   "metadata": {
    "id": "h3vgstZDWIkH"
   },
   "outputs": [],
   "source": [
    "sentence = \"hello I am Jay\""
   ]
  },
  {
   "cell_type": "markdown",
   "metadata": {},
   "source": [
    "*Call*"
   ]
  },
  {
   "cell_type": "code",
   "execution_count": 6,
   "metadata": {
    "colab": {
     "base_uri": "https://localhost:8080/"
    },
    "id": "iVh1rGnlWLCe",
    "outputId": "9430a5e1-8954-40aa-b52a-808b608af11f"
   },
   "outputs": [
    {
     "name": "stdout",
     "output_type": "stream",
     "text": [
      "word2index: {'hello': 2, 'I': 3, 'am': 4, 'Jay': 5}\n",
      "index2word: {0: 'SOS', 1: 'EOS', 2: 'hello', 3: 'I', 4: 'am', 5: 'Jay'}\n",
      "n_words: 6\n"
     ]
    }
   ],
   "source": [
    "engl = Lang(name)\n",
    "engl.addSentence(sentence)\n",
    "print(\"word2index:\", engl.word2index)\n",
    "print(\"index2word:\", engl.index2word)\n",
    "print(\"n_words:\", engl.n_words)"
   ]
  },
  {
   "cell_type": "markdown",
   "metadata": {
    "id": "9-ds5Fs-W6Qh"
   },
   "source": [
    "## 2.2 Normalizing String"
   ]
  },
  {
   "cell_type": "code",
   "execution_count": 7,
   "metadata": {
    "id": "pT6gm7E6WOkv"
   },
   "outputs": [],
   "source": [
    "# converting unicode to Ascii (removing the accent marks in some languages: Ślusàrski)\n",
    "def unicodeToAscii(s):\n",
    "    return ''.join(\n",
    "        c for c in unicodedata.normalize('NFD', s)\n",
    "        if unicodedata.category(c) != 'Mn'\n",
    "    )\n",
    "\n",
    "\n",
    "def normalizeString(s):\n",
    "    \"\"\"String normalization function, parameter 's' represents the string passed in\"\"\"\n",
    "    # make characters lowercase and remove whitespace on both sides, then use unicodeToAscii to remove accent marks\n",
    "    s = unicodeToAscii(s.lower().strip())\n",
    "    # add a space before the .!?\n",
    "    s = re.sub(r\"([.!?])\", r\" \\1\", s)\n",
    "    # use regular expressions to replace all strings that are not upper and lower case letters and normal punctuation with spaces\n",
    "    s = re.sub(r\"[^a-zA-Z.!?]+\", r\" \", s)\n",
    "    return s"
   ]
  },
  {
   "cell_type": "markdown",
   "metadata": {},
   "source": [
    "*Input parameters*"
   ]
  },
  {
   "cell_type": "code",
   "execution_count": 8,
   "metadata": {
    "id": "0v64hswnXBke"
   },
   "outputs": [],
   "source": [
    "s = \"Are you kidding me?\""
   ]
  },
  {
   "cell_type": "markdown",
   "metadata": {},
   "source": [
    "*Call*"
   ]
  },
  {
   "cell_type": "code",
   "execution_count": 9,
   "metadata": {
    "colab": {
     "base_uri": "https://localhost:8080/"
    },
    "id": "YFbe7KjLXE9q",
    "outputId": "3740186c-0b9f-4096-bdd5-f2ce1fc9fa61"
   },
   "outputs": [
    {
     "name": "stdout",
     "output_type": "stream",
     "text": [
      "are you kidding me ?\n"
     ]
    }
   ],
   "source": [
    "nsr = normalizeString(s)\n",
    "print(nsr)"
   ]
  },
  {
   "cell_type": "markdown",
   "metadata": {
    "id": "YPguW-5rX6R2"
   },
   "source": [
    "## 2.3 Loading the data from the persistence file into memory, and instantiating the *Lang* class"
   ]
  },
  {
   "cell_type": "code",
   "execution_count": 10,
   "metadata": {
    "id": "vvr6fSifXzCl"
   },
   "outputs": [],
   "source": [
    "data_path = '/Users/zhangyuqian/Desktop/ML project/sample_data:eng-fra.txt'\n",
    "\n",
    "def readLangs(lang1, lang2):\n",
    "    \"\"\"Read language function, parameter 'lang1' is the name of the source language, parameter 'lang2' is the name of the target language\n",
    "       Returns the corresponding class Lang object and a list of language pairs\"\"\"\n",
    "    # read language pairs from the file and store them in listlines with '/n' divisions\n",
    "    lines = open(data_path, encoding='utf-8').\\\n",
    "        read().strip().split('\\n')\n",
    "    # normalize the sentences in the lines list and divide them by '\\t' to form a sublist, i.e., a language pair\n",
    "    pairs = [[normalizeString(s) for s in l.split('\\t')] for l in lines] \n",
    "    # pass the language name into the Lang class, get the corresponding language object, and return the result\n",
    "    input_lang = Lang(lang1)\n",
    "    output_lang = Lang(lang2)\n",
    "    return input_lang, output_lang, pairs"
   ]
  },
  {
   "cell_type": "markdown",
   "metadata": {},
   "source": [
    "*Input Parameters*"
   ]
  },
  {
   "cell_type": "code",
   "execution_count": 11,
   "metadata": {
    "id": "SZtNx2SDY4Ew"
   },
   "outputs": [],
   "source": [
    "lang1 = \"eng\"\n",
    "lang2 = \"fra\""
   ]
  },
  {
   "cell_type": "markdown",
   "metadata": {},
   "source": [
    "*Call*"
   ]
  },
  {
   "cell_type": "code",
   "execution_count": 12,
   "metadata": {
    "colab": {
     "base_uri": "https://localhost:8080/"
    },
    "id": "_oTuiK54Y6j1",
    "outputId": "828d27c8-da80-424f-f0d1-7b9b005b84cf"
   },
   "outputs": [
    {
     "name": "stdout",
     "output_type": "stream",
     "text": [
      "input_lang: <__main__.Lang object at 0x7fca07842280>\n",
      "output_lang: <__main__.Lang object at 0x7fca078422e0>\n",
      "The first five in pairs: [['go .', 'va !'], ['run !', 'cours !'], ['run !', 'courez !'], ['wow !', 'ca alors !'], ['fire !', 'au feu !']]\n"
     ]
    }
   ],
   "source": [
    "input_lang, output_lang, pairs = readLangs(lang1, lang2)\n",
    "print(\"input_lang:\", input_lang)\n",
    "print(\"output_lang:\", output_lang)\n",
    "print(\"The first five in pairs:\", pairs[:5])"
   ]
  },
  {
   "cell_type": "markdown",
   "metadata": {
    "id": "aqrSpPG7ZDme"
   },
   "source": [
    "## 2.4 Filtering out the language pairs that meet the requirements"
   ]
  },
  {
   "cell_type": "code",
   "execution_count": 13,
   "metadata": {
    "id": "ydUvEG3PZB6J"
   },
   "outputs": [],
   "source": [
    "# set the maximum number of words or punctuation in a sentence\n",
    "MAX_LENGTH = 10\n",
    "\n",
    "# select linguistic feature data with specified prefixes as training data\n",
    "eng_prefixes = (\n",
    "    \"i am \", \"i m \",\n",
    "    \"he is\", \"he s \",\n",
    "    \"she is\", \"she s \",\n",
    "    \"you are\", \"you re \",\n",
    "    \"we are\", \"we re \",\n",
    "    \"they are\", \"they re \"\n",
    ")\n",
    "\n",
    "\n",
    "def filterPair(p):\n",
    "    \"\"\"Language pair filter function, the parameter 'p' represents the input language pair, such as ['she is afraid.', 'elle malade.']\"\"\"\n",
    "    # p[0] represents an English sentence, which should be divided by a length less than MAX_LENGTH and start with the specified prefix\n",
    "    # p[1] represents a French sentence, which should be divided in such a way that its length is less than MAX_LENGTH\n",
    "    return len(p[0].split(' ')) < MAX_LENGTH and \\\n",
    "        p[0].startswith(eng_prefixes) and \\\n",
    "        len(p[1].split(' ')) < MAX_LENGTH \n",
    "\n",
    "\n",
    "def filterPairs(pairs):\n",
    "    \"\"\"Filter on a list of language pairs, the parameter 'pairs' represents a list of language pairs, abbreviated as language pair list\"\"\"\n",
    "    # function directly traverses each language pair in the list and calls filterPair\n",
    "    return [pair for pair in pairs if filterPair(pair)]"
   ]
  },
  {
   "cell_type": "markdown",
   "metadata": {},
   "source": [
    "*Input parameters*"
   ]
  },
  {
   "cell_type": "code",
   "execution_count": 14,
   "metadata": {
    "id": "nhEkMfc5ZMNP"
   },
   "outputs": [],
   "source": [
    "# here, use the output of the readLangs function pairs as the input parameter pairs "
   ]
  },
  {
   "cell_type": "markdown",
   "metadata": {},
   "source": [
    "*Call*"
   ]
  },
  {
   "cell_type": "code",
   "execution_count": 15,
   "metadata": {
    "colab": {
     "base_uri": "https://localhost:8080/"
    },
    "id": "_peJTJJ8ZeJa",
    "outputId": "b087b063-9f9a-48b5-9bcc-7ca1a1de84e6"
   },
   "outputs": [
    {
     "name": "stdout",
     "output_type": "stream",
     "text": [
      "The first five in filtered pairs: [['i m .', 'j ai ans .'], ['i m ok .', 'je vais bien .'], ['i m ok .', 'ca va .'], ['i m fat .', 'je suis gras .'], ['i m fat .', 'je suis gros .']]\n"
     ]
    }
   ],
   "source": [
    "fpairs = filterPairs(pairs)\n",
    "print(\"The first five in filtered pairs:\", fpairs[:5])"
   ]
  },
  {
   "cell_type": "markdown",
   "metadata": {
    "id": "Y4gwAJFCZmKk"
   },
   "source": [
    "## 2.5 Integrating the data preparation functions shown above, and mapping the language pairs to values using the *Lang* class"
   ]
  },
  {
   "cell_type": "code",
   "execution_count": 16,
   "metadata": {
    "id": "GngVZouwZhlt"
   },
   "outputs": [],
   "source": [
    "def prepareData(lang1, lang2):\n",
    "    \"\"\"Data preparation function, which completes the mapping of all string data to numeric data and the filtering of language pairs\n",
    "       The parameters 'lang1', 'lang2' represent the names of the source and target languages respectively\"\"\"\n",
    "    # first, obtain the input_lang, output_lang objects and a list of language pairs of the string type through the readLangs function\n",
    "    input_lang, output_lang, pairs = readLangs(lang1, lang2)\n",
    "    # filter lists for string type languages\n",
    "    pairs = filterPairs(pairs)\n",
    "    # traverse the list for the filtered language\n",
    "    for pair in pairs:\n",
    "        # use the addSentence methods of input_lang and output_lang for numerical mapping\n",
    "        input_lang.addSentence(pair[0])\n",
    "        output_lang.addSentence(pair[1])\n",
    "    # return the value mapped object and the filtered language pair\n",
    "    return input_lang, output_lang, pairs"
   ]
  },
  {
   "cell_type": "markdown",
   "metadata": {},
   "source": [
    "*Call*"
   ]
  },
  {
   "cell_type": "code",
   "execution_count": 17,
   "metadata": {
    "colab": {
     "base_uri": "https://localhost:8080/"
    },
    "id": "WvGccyTzaLJb",
    "outputId": "0148a096-36eb-4dc7-8850-ef4cbaa3e377"
   },
   "outputs": [
    {
     "name": "stdout",
     "output_type": "stream",
     "text": [
      "input_n_words: 2803\n",
      "output_n_words: 4345\n",
      "['i m impatient .', 'je suis impatient .']\n"
     ]
    }
   ],
   "source": [
    "input_lang, output_lang, pairs = prepareData('eng', 'fra')\n",
    "print(\"input_n_words:\", input_lang.n_words)\n",
    "print(\"output_n_words:\", output_lang.n_words)\n",
    "print(random.choice(pairs))"
   ]
  },
  {
   "cell_type": "markdown",
   "metadata": {
    "id": "9iq3cW6JaT9l"
   },
   "source": [
    "## 2.6 Transform the language pairs into the tensor needed for model input"
   ]
  },
  {
   "cell_type": "code",
   "execution_count": 18,
   "metadata": {
    "id": "cT1Fxt03aSwo"
   },
   "outputs": [],
   "source": [
    "def tensorFromSentence(lang, sentence):\n",
    "    \"\"\"Convert a text sentence to a tensor, the parameter 'lang' represents the instantiated object of the Lang passed in, sentence is the pre-converted sentence\"\"\"\n",
    "    # segment the sentence and traverse each word, then use word2index method of 'lang' to find its corresponding index\n",
    "    # we can obtain the list of values corresponding to the sentence\n",
    "    indexes = [lang.word2index[word] for word in sentence.split(' ')]\n",
    "    # add the end-of-sentence marker\n",
    "    indexes.append(EOS_token)\n",
    "    # wrap it as a tensor using torch.tensor, and change its shape to nx1 to facilitate subsequent calculations\n",
    "    return torch.tensor(indexes, dtype=torch.long, device=device).view(-1, 1)\n",
    "\n",
    "\n",
    "def tensorsFromPair(pair):\n",
    "    \"\"\"Convert a language pair to a tensor pair, with parameter 'pair' as a language pair\"\"\"\n",
    "    # call tensorFromSentence to process the source language and the target language separately to obtain the corresponding tensor representation\n",
    "    input_tensor = tensorFromSentence(input_lang, pair[0])\n",
    "    target_tensor = tensorFromSentence(output_lang, pair[1])\n",
    "    # return the tuple\n",
    "    return (input_tensor, target_tensor)"
   ]
  },
  {
   "cell_type": "markdown",
   "metadata": {},
   "source": [
    "*Input parameters*"
   ]
  },
  {
   "cell_type": "code",
   "execution_count": 19,
   "metadata": {
    "id": "U9rePIoaaeoP"
   },
   "outputs": [],
   "source": [
    "# the first entry of pairs\n",
    "pair = pairs[0]"
   ]
  },
  {
   "cell_type": "markdown",
   "metadata": {},
   "source": [
    "*Call*"
   ]
  },
  {
   "cell_type": "code",
   "execution_count": 20,
   "metadata": {
    "colab": {
     "base_uri": "https://localhost:8080/"
    },
    "id": "o_pLKI2VaiVf",
    "outputId": "571c48a5-6ed4-42a1-86ef-b716f1b4c910"
   },
   "outputs": [
    {
     "name": "stdout",
     "output_type": "stream",
     "text": [
      "(tensor([[2],\n",
      "        [3],\n",
      "        [4],\n",
      "        [1]]), tensor([[2],\n",
      "        [3],\n",
      "        [4],\n",
      "        [5],\n",
      "        [1]]))\n"
     ]
    }
   ],
   "source": [
    "pair_tensor = tensorsFromPair(pair)\n",
    "print(pair_tensor)"
   ]
  },
  {
   "cell_type": "markdown",
   "metadata": {
    "id": "U338BBXxamz6"
   },
   "source": [
    "# 3 Building GRU-based encoders and decoders"
   ]
  },
  {
   "cell_type": "markdown",
   "metadata": {
    "id": "isY5rXMWavdA"
   },
   "source": [
    "## 3.1 Building a GRU-based encoder"
   ]
  },
  {
   "cell_type": "code",
   "execution_count": 21,
   "metadata": {
    "id": "BOLEBGEsamWf"
   },
   "outputs": [],
   "source": [
    "class EncoderRNN(nn.Module):\n",
    "    def __init__(self, input_size, hidden_size):\n",
    "        \"\"\"There are two initialization parameters: 'input_size' represents the input size of the decoder, \n",
    "        i.e. the word list size of the source language; 'hidden_size' represents the number of hidden \n",
    "        nodes of GRU, which also represents the word embedding dimension, and is also the input size of GRU.\"\"\"\n",
    "        super(EncoderRNN, self).__init__()\n",
    "        # pass the parameter 'hidden_size' into the class\n",
    "        self.hidden_size = hidden_size\n",
    "        # instantiate the predefined Embedding layer in nn, whose parameters are input_size, hidden_size\n",
    "        # the word embedding dimension here is hidden_size\n",
    "        self.embedding = nn.Embedding(input_size, hidden_size)\n",
    "        # instantiate the predefined GRU layer in nn, whose parameter is hidden_size\n",
    "        self.gru = nn.GRU(hidden_size, hidden_size)\n",
    "\n",
    "    def forward(self, input, hidden):\n",
    "        \"\"\"There are two parameters in the encoder forward logic function: 'input' represents the input tensor \n",
    "        of the Embedding layer of the source language; hidden represents the initial hidden layer tensor of the \n",
    "        encoder layer gru\"\"\"\n",
    "        # embed the input tensor, and make its shape (1, 1, -1), -1 means the dimension is calculated automatically\n",
    "        # theoretically, the encoder takes only one word at a time as input, so the size of the mapped vocabulary should be [1, embedding]\n",
    "        # the reason for the conversion to 3D is that the predefined gru in the torch must use a 3D tensor as input, so expand it by one dimension\n",
    "        output = self.embedding(input).view(1, 1, -1)\n",
    "        # then, pass in the output of the embedding layer and the initial hidden as input to gru \n",
    "        # get the output of the final gru and the corresponding hidden tensor hidden, and return the result\n",
    "        output, hidden = self.gru(output, hidden)\n",
    "        return output, hidden\n",
    "\n",
    "    def initHidden(self):\n",
    "        \"\"\"Initialize the hidden tensor function\"\"\"\n",
    "        # initialize the hidden tensor to a 0 tensor of size 1 * 1 * self.hidden_size\n",
    "        return torch.zeros(1, 1, self.hidden_size, device=device)"
   ]
  },
  {
   "cell_type": "markdown",
   "metadata": {},
   "source": [
    "*Instantiate parameters*"
   ]
  },
  {
   "cell_type": "code",
   "execution_count": 22,
   "metadata": {
    "id": "s1tm8Ojha3Hg"
   },
   "outputs": [],
   "source": [
    "hidden_size = 25\n",
    "input_size = 20"
   ]
  },
  {
   "cell_type": "markdown",
   "metadata": {},
   "source": [
    "*Input parameters*"
   ]
  },
  {
   "cell_type": "code",
   "execution_count": 23,
   "metadata": {
    "id": "vxeTUZBpa6q9"
   },
   "outputs": [],
   "source": [
    "# pair_tensor[0] represents the sentence in the source language, i.e. English, and pair_tensor[0][0] represents the first word in the sentence\n",
    "input = pair_tensor[0][0]\n",
    "# initialize the first hidden tensor, a 0 tensor of 1 * 1 * hidden_size\n",
    "hidden = torch.zeros(1, 1, hidden_size)"
   ]
  },
  {
   "cell_type": "markdown",
   "metadata": {},
   "source": [
    "*Call*"
   ]
  },
  {
   "cell_type": "code",
   "execution_count": 24,
   "metadata": {
    "colab": {
     "base_uri": "https://localhost:8080/"
    },
    "id": "DZcQOgQWa-Av",
    "outputId": "d369511c-cba5-4314-f990-d64433f50472"
   },
   "outputs": [
    {
     "name": "stdout",
     "output_type": "stream",
     "text": [
      "tensor([[[-0.2365, -0.4685,  0.3727,  0.2041,  0.5849,  0.3269, -0.4125,\n",
      "          -0.2622,  0.4215,  0.2241, -0.3261,  0.4786,  0.3804, -0.4119,\n",
      "           0.0825, -0.2612, -0.5668, -0.0293,  0.1895, -0.0863, -0.2056,\n",
      "          -0.3240, -0.3006, -0.0553,  0.0500]]], grad_fn=<StackBackward0>)\n"
     ]
    }
   ],
   "source": [
    "encoder = EncoderRNN(input_size, hidden_size)\n",
    "encoder_output, hidden = encoder(input, hidden)\n",
    "print(encoder_output)"
   ]
  },
  {
   "cell_type": "markdown",
   "metadata": {
    "id": "KkekqwG7bIFq"
   },
   "source": [
    "## 3.2 Building a GRU-based decoder"
   ]
  },
  {
   "cell_type": "code",
   "execution_count": 25,
   "metadata": {
    "id": "QYKewFN3bHLL"
   },
   "outputs": [],
   "source": [
    "class DecoderRNN(nn.Module):\n",
    "    def __init__(self, hidden_size, output_size):\n",
    "        \"\"\"There are two parameters in the initialization function, \n",
    "        'hidden_size' represents the input size of GRU in the decoder and also the number of its hidden layer nodes\n",
    "        'output_size' represents the output size of the whole decoder, which is also the size we want to get, i.e. the word list size of the target language.\"\"\"\n",
    "        super(DecoderRNN, self).__init__()\n",
    "        # pass the hidden_size into the class\n",
    "        self.hidden_size = hidden_size\n",
    "        # instantiate an Embedding layer object in nn, whose parameter output here represents the word list size of the target language\n",
    "        # 'hidden_size' indicates the word embedding dimension of the target language\n",
    "        self.embedding = nn.Embedding(output_size, hidden_size)\n",
    "        # instantiate the GRU object with the input parameter hidden_size, which means its input size is the same as the number of hidden nodes\n",
    "        self.gru = nn.GRU(hidden_size, hidden_size)\n",
    "        # instantiate a linear layer, making linear changes to the output of GRU\n",
    "        self.out = nn.Linear(hidden_size, output_size)\n",
    "        # process with softmax for classification\n",
    "        self.softmax = nn.LogSoftmax(dim=1)\n",
    "\n",
    "\n",
    "    def forward(self, input, hidden):\n",
    "        \"\"\"There are two parameters in the forward logic function of the decoder: \n",
    "        'input' represents the input tensor of the Embedding layer of the target language\n",
    "        'hidden' represents the initial hidden layer tensor of the decoder GRU\"\"\"\n",
    "        # embed the input tensor, and make its shape (1, 1, -1). -1 means the dimension is calculated automatically\n",
    "        output = self.embedding(input).view(1, 1, -1)\n",
    "        # process the output using the relu function to make the Embedding matrix more sparse to prevent overfitting\n",
    "        output = F.relu(output)\n",
    "        # pass the output of the embedding and the initialized hidden tensor to the decoder gru\n",
    "        output, hidden = self.gru(output, hidden)\n",
    "        # it can be downscaled by output[0], for the output of GRU is also a three-dimensional tensor where the first dimension is meaningless\n",
    "        # pass it to the linear layer for transformation, and process it with softmax for classification.\n",
    "        output = self.softmax(self.out(output[0]))\n",
    "        return output, hidden\n",
    "\n",
    "    def initHidden(self):\n",
    "        \"\"\"Initialize the hidden tensor function\"\"\"\n",
    "        # initialize the hidden tensor to a 0 tensor of size 1 * 1 * self.hidden_size\n",
    "        return torch.zeros(1, 1, self.hidden_size, device=device)"
   ]
  },
  {
   "cell_type": "markdown",
   "metadata": {},
   "source": [
    "*Instantiate parameters*"
   ]
  },
  {
   "cell_type": "code",
   "execution_count": 26,
   "metadata": {
    "id": "-bMWOHXEbPzP"
   },
   "outputs": [],
   "source": [
    "hidden_size = 25\n",
    "output_size = 10"
   ]
  },
  {
   "cell_type": "markdown",
   "metadata": {},
   "source": [
    "*Input parameters*"
   ]
  },
  {
   "cell_type": "code",
   "execution_count": 27,
   "metadata": {
    "id": "WutcoQeqbTGL"
   },
   "outputs": [],
   "source": [
    "# pair_tensor[1] represents the sentence in the target language, i.e. French, and pair_tensor[1][0] represents the first word in the sentence\n",
    "input = pair_tensor[1][0]\n",
    "# Initialize the first hidden tensor, a 0 tensor of 1 * 1 * hidden_size\n",
    "hidden = torch.zeros(1, 1, hidden_size)"
   ]
  },
  {
   "cell_type": "markdown",
   "metadata": {},
   "source": [
    "*Call*"
   ]
  },
  {
   "cell_type": "code",
   "execution_count": 28,
   "metadata": {
    "colab": {
     "base_uri": "https://localhost:8080/"
    },
    "id": "6InkitzxbX6f",
    "outputId": "54051f09-9e69-4f2f-ba1e-ff80e6e49fa7"
   },
   "outputs": [
    {
     "name": "stdout",
     "output_type": "stream",
     "text": [
      "tensor([[-2.1861, -2.3541, -2.5320, -2.2448, -2.4298, -2.2694, -2.2059, -2.4538,\n",
      "         -2.0324, -2.4228]], grad_fn=<LogSoftmaxBackward0>)\n"
     ]
    }
   ],
   "source": [
    "decoder = DecoderRNN(hidden_size, output_size)\n",
    "output, hidden = decoder(input, hidden)\n",
    "print(output)"
   ]
  },
  {
   "cell_type": "markdown",
   "metadata": {
    "id": "37PzBYcDbds5"
   },
   "source": [
    "## 3.3 Building decoder based on GRU and Attention"
   ]
  },
  {
   "cell_type": "code",
   "execution_count": 29,
   "metadata": {
    "id": "uh85hfJ4bcmA"
   },
   "outputs": [],
   "source": [
    "class AttnDecoderRNN(nn.Module):\n",
    "    def __init__(self, hidden_size, output_size, dropout_p=0.1, max_length=MAX_LENGTH):\n",
    "        \"\"\"There are 4 parameters in the initialization function:\n",
    "        'hidden_size' represents the input size of GRU in the decoder and also the number of its hidden layer nodes\n",
    "        'output_size' represents the output size of the whole decoder, i.e. the word list size of the target language.\n",
    "        'dropout_p' represents the zeroing ratio when we use the dropout layer, default 0.1, max_length represents the maximum length of the sentence\"\"\"\n",
    "        super(AttnDecoderRNN, self).__init__()\n",
    "        \n",
    "        self.hidden_size = hidden_size\n",
    "        self.output_size = output_size\n",
    "        self.dropout_p = dropout_p\n",
    "        self.max_length = max_length\n",
    "\n",
    "        # instantiate an Embedding layer, with input parameters self.output_size and self.hidden_size\n",
    "        self.embedding = nn.Embedding(self.output_size, self.hidden_size)\n",
    "        # according to the QKV theory of attention, the input parameters of attention are three Q, K, V\n",
    "        # attention weights are calculated using Q and K to obtain the weight matrix, and then matrix multiplication is done with V to obtain the attentional representation of V.\n",
    "        # stitch Q and K together on the vertical axis, perform the linear variation once, obtain the result by softmax processing, and make a tensor multiplication with V\n",
    "        \n",
    "        # need a matrix for linear transformation, instantiate nn.Linear\n",
    "        # since its input is a splice of Q, K, the first parameter is self.hidden_size * 2, and the second parameter is self.max_length\n",
    "        # Here, Q is the output of the Embedding layer of the decoder, K is the hidden layer output of the GRU of the decoder\n",
    "        # V is the output of the encoder layer\n",
    "        self.attn = nn.Linear(self.hidden_size * 2, self.max_length)\n",
    "        # Next, instantiate another linear layer, which is used to normalize the output size\n",
    "        # the input dimension is self.hidden_size * 2\n",
    "        self.attn_combine = nn.Linear(self.hidden_size * 2, self.hidden_size)\n",
    "        # Next, instantiate a nn.Dropout layer and pass in self.dropout_p\n",
    "        self.dropout = nn.Dropout(self.dropout_p)\n",
    "        # then, instantiate nn.GRU of which input and hidden layer size are both self.hidden_size\n",
    "        self.gru = nn.GRU(self.hidden_size, self.hidden_size)\n",
    "        # Finally instantiate the linear layer behind gru, which is the decoder output layer.\n",
    "        self.out = nn.Linear(self.hidden_size, self.output_size)\n",
    "\n",
    "\n",
    "    def forward(self, input, hidden, encoder_outputs):\n",
    "        \"\"\"There are 3 input parameters in the forward function: \n",
    "        the source data input tensor, the initial hidden tensor, and the output tensor of the decoder\"\"\"\n",
    "\n",
    "        # subject the input tensor to Embedding layers, and expand dimensionality\n",
    "        embedded = self.embedding(input).view(1, 1, -1)\n",
    "        # use dropout for random discarding to prevent overfitting\n",
    "        embedded = self.dropout(embedded)\n",
    "\n",
    "        # stitch Q, K on the vertical axis, make a linear change, and use softmax processing.\n",
    "        attn_weights = F.softmax(\n",
    "            self.attn(torch.cat((embedded[0], hidden[0]), 1)), dim=1)\n",
    "\n",
    "        # perform the bmm operation\n",
    "        attn_applied = torch.bmm(attn_weights.unsqueeze(0),\n",
    "                                 encoder_outputs.unsqueeze(0))\n",
    "\n",
    "        # reduce the dimensionality by taking [0], and splice Q with the calculation result of the previous step again\n",
    "        output = torch.cat((embedded[0], attn_applied[0]), 1)\n",
    "\n",
    "        # use the linear layer action to perform a linear transformation on the result of the previous step, and extend the dimensionality\n",
    "        output = self.attn_combine(output).unsqueeze(0)\n",
    "\n",
    "        # activate with relu\n",
    "        output = F.relu(output)\n",
    "\n",
    "        # pass in the result after the activation as input to gru along with hidden\n",
    "        output, hidden = self.gru(output, hidden)\n",
    "\n",
    "        # downscale the results, and process them with softmax\n",
    "        output = F.log_softmax(self.out(output[0]), dim=1)\n",
    "        # return the decoder result, the final hidden layer tensor, and the attention weight tensor\n",
    "        return output, hidden, attn_weights\n",
    "\n",
    "    def initHidden(self):\n",
    "        \"\"\"Initialize the hidden tensor function\"\"\"\n",
    "        # initialize the hidden tensor to a 0 tensor of size 1 * 1 * self.hidden_size\n",
    "        return torch.zeros(1, 1, self.hidden_size, device=device)"
   ]
  },
  {
   "cell_type": "markdown",
   "metadata": {},
   "source": [
    "*Instantiate parameters*"
   ]
  },
  {
   "cell_type": "code",
   "execution_count": 30,
   "metadata": {
    "id": "Z9ACrvaGbtl8"
   },
   "outputs": [],
   "source": [
    "hidden_size = 25\n",
    "output_size = 10"
   ]
  },
  {
   "cell_type": "markdown",
   "metadata": {},
   "source": [
    "*Input parameters*"
   ]
  },
  {
   "cell_type": "code",
   "execution_count": 31,
   "metadata": {
    "id": "QaADBOLvbv5W"
   },
   "outputs": [],
   "source": [
    "input = pair_tensor[1][0]\n",
    "hidden = torch.zeros(1, 1, hidden_size)\n",
    "# encoder_outputs needs to be a stack of outputs for each time step in the encoder\n",
    "# its shape should be 10x25, so directly initialize a tensor here at random\n",
    "encoder_outputs  = torch.randn(10, 25)"
   ]
  },
  {
   "cell_type": "markdown",
   "metadata": {},
   "source": [
    "*Call*"
   ]
  },
  {
   "cell_type": "code",
   "execution_count": 32,
   "metadata": {
    "colab": {
     "base_uri": "https://localhost:8080/"
    },
    "id": "qbRhKZtcbyO0",
    "outputId": "d3d938e4-c0f5-4207-9c11-5dcbf9bf9384"
   },
   "outputs": [
    {
     "name": "stdout",
     "output_type": "stream",
     "text": [
      "tensor([[-2.1850, -2.0518, -2.1782, -2.4231, -2.2649, -2.3744, -2.4032, -2.4213,\n",
      "         -2.4086, -2.3964]], grad_fn=<LogSoftmaxBackward0>)\n"
     ]
    }
   ],
   "source": [
    "decoder = AttnDecoderRNN(hidden_size, output_size)\n",
    "output, hidden, attn_weights= decoder(input, hidden, encoder_outputs)\n",
    "print(output)"
   ]
  },
  {
   "cell_type": "markdown",
   "metadata": {
    "id": "gp5DRV43cYyr"
   },
   "source": [
    "# 4 Construct model training function and perform training"
   ]
  },
  {
   "cell_type": "markdown",
   "metadata": {
    "id": "C4N0d46KcihD"
   },
   "source": [
    "## 4.1 Constructing training functions"
   ]
  },
  {
   "cell_type": "code",
   "execution_count": 33,
   "metadata": {
    "id": "O-nsWC4GcdIy"
   },
   "outputs": [],
   "source": [
    "# set the teacher_forcing ratio to 0.5\n",
    "teacher_forcing_ratio = 0.5\n",
    "\n",
    "\n",
    "def train(input_tensor, target_tensor, encoder, decoder, encoder_optimizer, decoder_optimizer, criterion, max_length=MAX_LENGTH):\n",
    "    \"\"\"There are 8 input parameters in the training function: \n",
    "    input_tensor: input tensor of the source language,\n",
    "    target_tensor: target language input tensor, and\n",
    "    encoder, decoder: encoder and decoder instantiation objects,\n",
    "    encoder_optimizer, decoder_optimizer: encoder and decoder optimization methods, \n",
    "    criterion: loss function calculation method, and\n",
    "    max_length: the maximum length of the sentence\"\"\"\n",
    "\n",
    "    # initialize the hidden tensor\n",
    "    encoder_hidden = encoder.initHidden()\n",
    "\n",
    "    # encoder and decoder optimizer gradient to 0\n",
    "    encoder_optimizer.zero_grad()\n",
    "    decoder_optimizer.zero_grad()\n",
    "\n",
    "    # obtain the corresponding lengths based on the source and target text tensor\n",
    "    input_length = input_tensor.size(0)\n",
    "    target_length = target_tensor.size(0)\n",
    "\n",
    "    # initialize the encoder output tensor in the shape of a 0-tensor of max_length * encoder.hidden_size\n",
    "    encoder_outputs = torch.zeros(max_length, encoder.hidden_size, device=device)\n",
    "\n",
    "    # initialize set loss to 0\n",
    "    loss = 0\n",
    "\n",
    "    # traverse the input tensor index\n",
    "    for ei in range(input_length):\n",
    "        # extract the tensor representation of the corresponding word from the input_tensor according to the index \n",
    "        # and pass it into the encoder object together with the initialized hidden tensor\n",
    "        encoder_output, encoder_hidden = encoder(\n",
    "            input_tensor[ei], encoder_hidden)\n",
    "        # store the output of encoder_output (3D tensor) and its vectorized form into encoder_outputs\n",
    "        encoder_outputs[ei] = encoder_output[0, 0]\n",
    "\n",
    "    # initialize the first input of the decoder, i.e. start sign\n",
    "    decoder_input = torch.tensor([[SOS_token]], device=device)\n",
    "\n",
    "    # initialize the implicit tensor of the decoder, i.e. the implicit output of the encoder\n",
    "    decoder_hidden = encoder_hidden\n",
    "\n",
    "    # determine whether to use teacher_forcing based on the random number compared to teacher_forcing_ratio\n",
    "    use_teacher_forcing = True if random.random() < teacher_forcing_ratio else False\n",
    "\n",
    "    # if use teacher_forcing\n",
    "    if use_teacher_forcing:\n",
    "        # traverse the target tensor index\n",
    "        for di in range(target_length):\n",
    "            # pass decoder_input, decoder_hidden, encoder_outputs (Q, K, V in attention) into decoder to obtain decoder_output, decoder_hidden, decoder_attention\n",
    "            decoder_output, decoder_hidden, decoder_attention = decoder(\n",
    "                decoder_input, decoder_hidden, encoder_outputs)\n",
    "            # due to the use of teacher_forcing, we only use target_tensor[di] to calculate the loss regardless of the decoder_output of the decoder\n",
    "            loss += criterion(decoder_output, target_tensor[di])\n",
    "            # meanwhile, force the next decoder input to be set to 'the correct answer'\n",
    "            decoder_input = target_tensor[di]  \n",
    "\n",
    "    else:\n",
    "        # if not use teacher_forcing\n",
    "        # still traverse the target tensor index\n",
    "        for di in range(target_length):\n",
    "            # pass decoder_input, decoder_hidden, encoder_outputs into decoder to obtain decoder_output, decoder_hidden, decoder_attention\n",
    "            decoder_output, decoder_hidden, decoder_attention = decoder(\n",
    "                decoder_input, decoder_hidden, encoder_outputs)\n",
    "            # here, get the answer from decoder_output\n",
    "            topv, topi = decoder_output.topk(1)\n",
    "            # still use decoder_output and target_tensor[di] as the loss calculation \n",
    "            loss += criterion(decoder_output, target_tensor[di])\n",
    "            # if the output value is a terminator, the loop stops\n",
    "            if topi.squeeze().item() == EOS_token:\n",
    "                break\n",
    "            # otherwise, descend the topi and separate the value to decoder_input for the next operation\n",
    "            # the detachment of the detachment here makes this decoder_input independent of the tensor map constructed by the model, \n",
    "            # equivalent to a completely new external input\n",
    "            decoder_input = topi.squeeze().detach()\n",
    "\n",
    "\n",
    "    # back propagation of errors\n",
    "    loss.backward()\n",
    "    # optimize encoders and decoders are optimized i.e. update parameters\n",
    "    encoder_optimizer.step()\n",
    "    decoder_optimizer.step()\n",
    "\n",
    "    # return average loss\n",
    "    return loss.item() / target_length"
   ]
  },
  {
   "cell_type": "markdown",
   "metadata": {
    "id": "PDoqq4uLcr4h"
   },
   "source": [
    "## 4.2 Constructing time calculation functions"
   ]
  },
  {
   "cell_type": "code",
   "execution_count": 34,
   "metadata": {
    "id": "a9lT4ViScqvE"
   },
   "outputs": [],
   "source": [
    "import time\n",
    "import math\n",
    "\n",
    "def timeSince(since):\n",
    "    \"Get the training elapsed time per print, 'since' represents the training start time\"\n",
    "    # get current time\n",
    "    now = time.time()\n",
    "    # get the time difference (training time consuming)\n",
    "    s = now - since\n",
    "    # convert seconds to minutes, and round to the nearest whole number\n",
    "    m = math.floor(s / 60)\n",
    "    # calculate the number of seconds left to make up the 1 minute\n",
    "    s -= m * 60\n",
    "    # returns the elapsed time for the specified format\n",
    "    return '%dm %ds' % (m, s)"
   ]
  },
  {
   "cell_type": "markdown",
   "metadata": {},
   "source": [
    "*Input parameters*"
   ]
  },
  {
   "cell_type": "code",
   "execution_count": 35,
   "metadata": {
    "id": "8HV-TV3PcyOU"
   },
   "outputs": [],
   "source": [
    "# assume that the model training starts 10min before\n",
    "since = time.time() - 10*60"
   ]
  },
  {
   "cell_type": "markdown",
   "metadata": {},
   "source": [
    "*Call*"
   ]
  },
  {
   "cell_type": "code",
   "execution_count": 36,
   "metadata": {
    "colab": {
     "base_uri": "https://localhost:8080/"
    },
    "id": "0WwHEWjDc0Sg",
    "outputId": "8d78d899-2e2e-4d09-d930-c05201300a01"
   },
   "outputs": [
    {
     "name": "stdout",
     "output_type": "stream",
     "text": [
      "10m 0s\n"
     ]
    }
   ],
   "source": [
    "period = timeSince(since)\n",
    "print(period)"
   ]
  },
  {
   "cell_type": "markdown",
   "metadata": {
    "id": "jKcUTvm1c7lC"
   },
   "source": [
    "## 4.3 Calling training functions and printing logs and graphing"
   ]
  },
  {
   "cell_type": "code",
   "execution_count": 37,
   "metadata": {
    "id": "HXm8OP_Tc6Ym"
   },
   "outputs": [],
   "source": [
    "import matplotlib.pyplot as plt\n",
    "\n",
    "def trainIters(encoder, decoder, n_iters, print_every=1000, plot_every=100, learning_rate=0.01):\n",
    "    \"\"\"There are 6 input parameters in the training iteration function, namely:\n",
    "    encoder, decoder: encoder and decoder objects.\n",
    "    n_iters: the total number of iterative steps, \n",
    "    print_every: print log interval, \n",
    "    plot_every: interval to plot the loss curve, \n",
    "    learning_rate\"\"\"\n",
    "    # get training start time stamp\n",
    "    start = time.time()\n",
    "    # average loss saving list for each loss interval for plotting loss curves\n",
    "    plot_losses = []\n",
    "\n",
    "    # total loss per print log interval, initially 0\n",
    "    print_loss_total = 0  \n",
    "    # total loss for each plotted loss interval, initially 0\n",
    "    plot_loss_total = 0  \n",
    "\n",
    "    # use the predefined SGD as an optimizer, pass the parameters and learning rate into it\n",
    "    encoder_optimizer = optim.SGD(encoder.parameters(), lr=learning_rate)\n",
    "    decoder_optimizer = optim.SGD(decoder.parameters(), lr=learning_rate)\n",
    "\n",
    "    # select the loss function\n",
    "    criterion = nn.NLLLoss()\n",
    "\n",
    "    # loop according to set iteration step\n",
    "    for iter in range(1, n_iters + 1):\n",
    "        # randomly select from the list of language pairs as a training statement one at a time\n",
    "        training_pair = tensorsFromPair(random.choice(pairs))\n",
    "        # take the input tensor and target tensor from training_pair respectively\n",
    "        input_tensor = training_pair[0]\n",
    "        target_tensor = training_pair[1]\n",
    "\n",
    "        # obtain the loss of the model run by the train function\n",
    "        loss = train(input_tensor, target_tensor, encoder,\n",
    "                     decoder, encoder_optimizer, decoder_optimizer, criterion)\n",
    "        # sum up losses\n",
    "        print_loss_total += loss\n",
    "        plot_loss_total += loss\n",
    "\n",
    "        # when the iteration step reaches the log printing interval\n",
    "        if iter % print_every == 0:\n",
    "            # obtain average loss through dividing the total loss by the interval\n",
    "            print_loss_avg = print_loss_total / print_every\n",
    "            # reset the total loss to zero\n",
    "            print_loss_total = 0\n",
    "            # print the logs with the following contents: \n",
    "            # training time, current iteration step, current progress percentage, current average loss\n",
    "            print('%s (%d %d%%) %.4f' % (timeSince(start),\n",
    "                                         iter, iter / n_iters * 100, print_loss_avg))\n",
    "\n",
    "        # when the iteration step reaches the loss drawing interval\n",
    "        if iter % plot_every == 0:\n",
    "            # obtain Average loss through dividing the total loss by the interval\n",
    "            plot_loss_avg = plot_loss_total / plot_every\n",
    "            # load the average loss into the plot_losses list\n",
    "            plot_losses.append(plot_loss_avg)\n",
    "            # reset total loss to 0\n",
    "            plot_loss_total = 0\n",
    "\n",
    "    # plot loss curves\n",
    "    plt.figure()  \n",
    "    plt.plot(plot_losses)\n",
    "    # save to specified path\n",
    "    plt.savefig(\"./s2s_loss.png\")"
   ]
  },
  {
   "cell_type": "markdown",
   "metadata": {},
   "source": [
    "*Input parameters*"
   ]
  },
  {
   "cell_type": "code",
   "execution_count": 38,
   "metadata": {
    "id": "GB6KpH64dDXT"
   },
   "outputs": [],
   "source": [
    "# set the hidden layer size to 256, which is also the word embedding dimension      \n",
    "hidden_size = 256\n",
    "# get the total number of input words by input_lang.n_words and pass it to EncoderRNN class together with hidden_size\n",
    "# get encoder object encoder1\n",
    "encoder1 = EncoderRNN(input_lang.n_words, hidden_size).to(device)\n",
    "\n",
    "# get the total number of target words by output_lang.n_words and pass it into AttnDecoderRNN class together with hidden_size and dropout_p\n",
    "# get decoder object attn_decoder1\n",
    "attn_decoder1 = AttnDecoderRNN(hidden_size, output_lang.n_words, dropout_p=0.1).to(device)\n",
    "\n",
    "# set the number of iteration steps \n",
    "n_iters = 75000\n",
    "# set the log printing interval\n",
    "print_every = 5000 "
   ]
  },
  {
   "cell_type": "markdown",
   "metadata": {},
   "source": [
    "*Call*"
   ]
  },
  {
   "cell_type": "code",
   "execution_count": 39,
   "metadata": {
    "colab": {
     "base_uri": "https://localhost:8080/",
     "height": 537
    },
    "id": "7XG9PBfndFk9",
    "outputId": "71c57dbb-39a7-4536-dba0-5d63d46f1d16"
   },
   "outputs": [
    {
     "name": "stdout",
     "output_type": "stream",
     "text": [
      "3m 36s (5000 6%) 3.4072\n",
      "7m 18s (10000 13%) 2.7983\n",
      "10m 58s (15000 20%) 2.4237\n",
      "14m 39s (20000 26%) 2.1756\n",
      "18m 21s (25000 33%) 1.9500\n",
      "22m 7s (30000 40%) 1.8002\n",
      "25m 53s (35000 46%) 1.6398\n",
      "29m 35s (40000 53%) 1.5193\n",
      "33m 24s (45000 60%) 1.4244\n",
      "37m 12s (50000 66%) 1.2928\n",
      "40m 54s (55000 73%) 1.2234\n",
      "44m 40s (60000 80%) 1.1583\n",
      "48m 23s (65000 86%) 1.0771\n",
      "52m 8s (70000 93%) 1.0315\n",
      "55m 52s (75000 100%) 0.9732\n"
     ]
    },
    {
     "data": {
      "image/png": "[encoded data removed]",
      "text/plain": [
       "<Figure size 432x288 with 1 Axes>"
      ]
     },
     "metadata": {
      "needs_background": "light"
     },
     "output_type": "display_data"
    }
   ],
   "source": [
    "# call trainIters for model training, pass encoder object encoder1, coder object attn_decoder1, number of iteration steps, log printing interval into it\n",
    "trainIters(encoder1, attn_decoder1, n_iters, print_every=print_every)"
   ]
  },
  {
   "cell_type": "markdown",
   "metadata": {
    "id": "twIrCKlDeZA_"
   },
   "source": [
    "# 5 Construct model evaluation functions and perform testing and Attention effect analysis"
   ]
  },
  {
   "cell_type": "markdown",
   "metadata": {
    "id": "0ZuIzLbTebvc"
   },
   "source": [
    "## 5.1 Constructing model evaluation functions"
   ]
  },
  {
   "cell_type": "code",
   "execution_count": 40,
   "metadata": {
    "id": "FYVmNuDsef1s"
   },
   "outputs": [],
   "source": [
    "def evaluate(encoder, decoder, sentence, max_length=MAX_LENGTH):\n",
    "    \"\"\"There are 4 input parameters in the evaluation function, which are:\n",
    "    encoder, decoder: encoder and decoder objects,\n",
    "    sentence: the sentence to be evaluated.\n",
    "    max_length: the maximum length of the sentence\"\"\"\n",
    "\n",
    "    # no gradient calculation in the evaluation phase\n",
    "    with torch.no_grad():\n",
    "        # tensor representation of the input sentences\n",
    "        input_tensor = tensorFromSentence(input_lang, sentence)\n",
    "        # get the input sentence length\n",
    "        input_length = input_tensor.size()[0]\n",
    "        # initialize the encoder hidden tensor\n",
    "        encoder_hidden = encoder.initHidden()\n",
    "\n",
    "        # initialize the encoder output tensor to be a 0-tensor of max_lengthxencoder.hidden_size\n",
    "        encoder_outputs = torch.zeros(max_length, encoder.hidden_size, device=device)\n",
    "\n",
    "        # iterate through the input tensor index\n",
    "        for ei in range(input_length):\n",
    "             # extract the tensor representation of the corresponding word from the input_tensor according to the index \n",
    "             # and pass it into the encoder object together with the initialized hidden tensor\n",
    "            encoder_output, encoder_hidden = encoder(input_tensor[ei],\n",
    "                                                     encoder_hidden)\n",
    "            # store the output of encoder_output (3D tensor) and its vectorized form into encoder_outputs\n",
    "            encoder_outputs[ei] += encoder_output[0, 0]\n",
    "\n",
    "        # initialize the first input of the decoder, i.e. the start sign\n",
    "        decoder_input = torch.tensor([[SOS_token]], device=device) \n",
    "        # initialize the implicit tensor of the decoder, i.e. the implicit output of the encoder\n",
    "        decoder_hidden = encoder_hidden\n",
    "\n",
    "        # initialize the list of predicted words\n",
    "        decoded_words = []\n",
    "        # initialize the attention tensor\n",
    "        decoder_attentions = torch.zeros(max_length, max_length)\n",
    "        # start loop decoding\n",
    "        for di in range(max_length):\n",
    "            # pass decoder_input, decoder_hidden, encoder_outputs into decoder to obtain decoder_output, decoder_hidden, decoder_attention\n",
    "            decoder_output, decoder_hidden, decoder_attention = decoder(\n",
    "                decoder_input, decoder_hidden, encoder_outputs)\n",
    "\n",
    "            # take all the attention results and store them in the initialized attention tensor\n",
    "            decoder_attentions[di] = decoder_attention.data\n",
    "            # obtain the value with the highest probability and its index object from the decoder output\n",
    "            topv, topi = decoder_output.data.topk(1)\n",
    "            # take the value from the index object and compare it with the end flag value\n",
    "            if topi.item() == EOS_token:\n",
    "                # if it is the end flag value, load the end flag into the decoded_words list (the end of translation)\n",
    "                decoded_words.append('<EOS>')\n",
    "                # exit loop\n",
    "                break\n",
    "\n",
    "            else:\n",
    "                # otherwise, find its corresponding word in the index2word dictionary of the output language according to the index and load it into decoded_words\n",
    "                decoded_words.append(output_lang.index2word[topi.item()])\n",
    "\n",
    "            # deal the index of this prediction by dimensionality reduction, and ssign it to the decoder_input for the next prediction\n",
    "            decoder_input = topi.squeeze().detach()\n",
    "        # return the result decoded_words and the full attention tensor, and cut out the unused parts\n",
    "        return decoded_words, decoder_attentions[:di + 1]"
   ]
  },
  {
   "cell_type": "markdown",
   "metadata": {},
   "source": [
    "## 5.2 Randomly select a specified amount of data for evaluation"
   ]
  },
  {
   "cell_type": "code",
   "execution_count": 41,
   "metadata": {
    "id": "4EkzHr-Weof1"
   },
   "outputs": [],
   "source": [
    "def evaluateRandomly(encoder, decoder, n=6):\n",
    "    \"\"\"Randomly evaluate function, input parameters 'encoder' and 'decoder' represents the encoder and decoder objects, \n",
    "    n represents the number of tests\"\"\"\n",
    "    # loop for test numbers\n",
    "    for i in range(n):\n",
    "        # randomly select language pairs from pairs\n",
    "        pair = random.choice(pairs)\n",
    "        # > represents input\n",
    "        print('>', pair[0])\n",
    "        # = represents the correct output\n",
    "        print('=', pair[1])\n",
    "        # call evaluate for prediction\n",
    "        output_words, attentions = evaluate(encoder, decoder, pair[0])\n",
    "        # connect the results into sentences\n",
    "        output_sentence = ' '.join(output_words)\n",
    "        # < represents the output of the model\n",
    "        print('<', output_sentence)\n",
    "        print('')"
   ]
  },
  {
   "cell_type": "markdown",
   "metadata": {},
   "source": [
    "*Call*"
   ]
  },
  {
   "cell_type": "code",
   "execution_count": 57,
   "metadata": {
    "colab": {
     "base_uri": "https://localhost:8080/"
    },
    "id": "IMeCbgDAerRs",
    "outputId": "872e191e-6413-4bb3-a651-701d8713f786"
   },
   "outputs": [
    {
     "name": "stdout",
     "output_type": "stream",
     "text": [
      "> i m not even a little hungry .\n",
      "= je n ai pas faim du tout .\n",
      "< je n ai pas faim de faim . <EOS>\n",
      "\n",
      "> he is a lazy fellow .\n",
      "= c est un type paresseux .\n",
      "< c est une femme paresseux . <EOS>\n",
      "\n",
      "> i m feeling much better today .\n",
      "= je me sens beaucoup mieux aujourd hui .\n",
      "< je me sens beaucoup mieux aujourd hui . <EOS>\n",
      "\n",
      "> i am afraid to go .\n",
      "= j ai peur d y aller .\n",
      "< j ai peur de m y rendre . <EOS>\n",
      "\n",
      "> i am paid weekly .\n",
      "= je suis payee a la semaine .\n",
      "< je suis en le . <EOS>\n",
      "\n",
      "> we re not getting any younger .\n",
      "= nous ne rajeunissons pas .\n",
      "< nous ne rajeunissons pas . <EOS>\n",
      "\n"
     ]
    }
   ],
   "source": [
    "# call evaluateRandomly for model testing\n",
    "evaluateRandomly(encoder1, attn_decoder1)"
   ]
  },
  {
   "cell_type": "markdown",
   "metadata": {
    "id": "P5iI8L1CezdY"
   },
   "source": [
    "## 5.3 Visualizing Attention tensor"
   ]
  },
  {
   "cell_type": "code",
   "execution_count": 72,
   "metadata": {
    "colab": {
     "base_uri": "https://localhost:8080/",
     "height": 293
    },
    "id": "_VOKvGr8etga",
    "outputId": "dd43ab61-f50f-4876-ce33-db3205a731f4"
   },
   "outputs": [
    {
     "name": "stdout",
     "output_type": "stream",
     "text": [
      "['nous', 'sommes', 'tous', 'deux', 'enseignants', '.', '<EOS>']\n"
     ]
    },
    {
     "data": {
      "image/png": "[encoded data removed]",
      "text/plain": [
       "<Figure size 411.429x288 with 1 Axes>"
      ]
     },
     "metadata": {
      "needs_background": "light"
     },
     "output_type": "display_data"
    }
   ],
   "source": [
    "sentence = \"we re both teachers .\"\n",
    "# call the evaluation function\n",
    "output_words, attentions = evaluate(encoder1, attn_decoder1, sentence)\n",
    "print(output_words)\n",
    "# convert attention tensor to numpy, use matshow to plot\n",
    "plt.matshow(attentions.numpy())\n",
    "# save image\n",
    "plt.savefig(\"./s2s_attn.png\")"
   ]
  },
  {
   "cell_type": "code",
   "execution_count": null,
   "metadata": {},
   "outputs": [],
   "source": []
  }
 ],
 "metadata": {
  "colab": {
   "collapsed_sections": [],
   "name": "nlp_machine tralation.ipynb",
   "provenance": []
  },
  "kernelspec": {
   "display_name": "Python 3 (ipykernel)",
   "language": "python",
   "name": "python3"
  },
  "language_info": {
   "codemirror_mode": {
    "name": "ipython",
    "version": 3
   },
   "file_extension": ".py",
   "mimetype": "text/x-python",
   "name": "python",
   "nbconvert_exporter": "python",
   "pygments_lexer": "ipython3",
   "version": "3.9.12"
  }
 },
 "nbformat": 4,
 "nbformat_minor": 1
}
