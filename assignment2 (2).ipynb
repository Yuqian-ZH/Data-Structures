{
 "cells": [
  {
   "cell_type": "markdown",
   "metadata": {
    "id": "NLUA7d_qhr4k"
   },
   "source": [
    "<h2><center>Introduction to Machine Learning, Summer 2022</center></h2>\n",
    "  <h3><center>  Assignment 2</center></h3>\n",
    "\n",
    "__Given date:__ June 13\n",
    "\n",
    "__Due date:__ June 21\n",
    "\n",
    "__Total: 25pts__\n",
    "\n"
   ]
  },
  {
   "cell_type": "markdown",
   "metadata": {
    "id": "u1LoR7Lnhr4o"
   },
   "source": [
    "### Question 1 Logistic regression (15pts)\n",
    "\n",
    "##### Question 1.1 Logistic regression (5pts)\n",
    "\n",
    "As we saw during the lectures, one approach at learning a (binary) linear discriminant is to combine the sigmoid activation function with the linear discriminant $\\beta_0 + \\mathbf{\\beta}^T \\mathbf{x}$. We then assume that the probability of having a particular target ($0$ vs $1$) follows a Bernoulli with parameter $\\sigma(\\tilde{\\mathbf{\\beta}}^T\\tilde{\\mathbf{x}})$. i.e. we have \n",
    "\n",
    "$$\\left\\{\\begin{array}{l}\n",
    "P(t = 1|x) = \\sigma(\\mathbf{\\beta}^T\\mathbf{x})\\\\\n",
    "P(t = 0|x) = 1-\\sigma(\\mathbf{\\beta}^T\\mathbf{x})\\end{array}\\right.$$\n",
    "\n",
    "The total density can read from the product of each of the independent densities as \n",
    "\n",
    "$$P(\\left\\{t_i\\right\\}_{i=1}^N) = \\prod_{i=1}^N \\sigma(\\mathbf{\\beta}^T\\mathbf{x})^{t^{(i)}}(1-\\sigma(\\mathbf{\\beta}^T\\mathbf{x}))^{1-t^{(i)}}$$\n",
    "\n",
    "we can then take the log and compute the derivatives of the resulting expression with respect to each weight $\\beta_j$. Implement this approach below. Recall that the derivative of the sigmoid $\\sigma(\\boldsymbol x)$ has a _simple expression_. "
   ]
  },
  {
   "cell_type": "code",
   "execution_count": 1,
   "metadata": {
    "id": "YiiDN4NFhr4p"
   },
   "outputs": [],
   "source": [
    "# Step 1 define the sigmoid activation and its derivative\n",
    "import numpy as np\n",
    "\n",
    "def sigmoid(x):\n",
    "\n",
    "    '''the function should return the sigmoid and its derivative at all the \n",
    "    entries of x '''\n",
    "    sig = 1/(1+np.exp(-x)) # sigmoid function\n",
    "    deriv_sig = sig*(1-sig)# sigmoid deriative\n",
    "    \n",
    "    return sig, deriv_sig\n",
    "\n",
    "\n",
    "def solve_logisticRegression(xi, ti, beta0, maxIter, eta):\n",
    "    \n",
    "    '''The function should return the vector of weights for a \n",
    "    logistic regression classifier learned through gradient descent \n",
    "    iterations applied to the log likelihood function'''\n",
    "    iter = 0 #initial iteration = 0\n",
    "    beta = beta0 ##initialize\n",
    "    intercept = np.ones((xi.shape[0], 1)) # initialize intercept to 1\n",
    "    xi = np.concatenate((intercept, xi), axis=1)\n",
    "\n",
    "    while iter <= maxIter:\n",
    "      z = np.dot(xi, beta) # linear function\n",
    "      h,_= sigmoid(z)  \n",
    "      gradient = np.dot(xi.T, (h - ti)) / ti.shape[0]#\n",
    "      beta -= eta * gradient # calculate the length of steps and take the gradient descent\n",
    "      # sig,_ = sigmoid(np.dot(beta, xi.T)\n",
    "      # beta = beta + eta * (ti - sig)) * xi.T\n",
    "      iter +=1\n",
    "    \n",
    "    return beta\n",
    "\n",
    "\n",
    "\n",
    "\n"
   ]
  },
  {
   "cell_type": "markdown",
   "metadata": {
    "id": "1m_Upr9ihr4q"
   },
   "source": [
    "#### Question 1.2 Logistic regression and Fisher scoring (5pts)\n",
    "\n",
    "An interesting aspect of the MLE estimator in logistic regression (as opposed to other objective functions) is that the Hessian is positive definite. We can thus improve the iterations by using a second order method (such as Newton's method) where the simpler gradient iterations $ \\mathbf{\\boldsymbol \\beta}^{k+1}\\leftarrow \\mathbf{\\boldsymbol \\beta}^k - \\eta\\nabla \\ell(\\mathbf{\\boldsymbol \\beta}^k)$ are replaced by \n",
    "\n",
    "$$\\mathbf{\\boldsymbol \\beta}^{k+1}\\leftarrow \\mathbf{\\boldsymbol \\beta}^k - \\eta H^{-1}({{\\boldsymbol \\beta}^k})\\nabla \\ell(\\mathbf{\\boldsymbol \\beta}^k)$$\n",
    "\n",
    "(see e.g. [here](https://statacumen.com/teach/SC1/SC1_11_LogisticRegression.pdf) for more details) Start by completing the function 'HessianMLE' below which should return the Hessian of the negative log likelihood. "
   ]
  },
  {
   "cell_type": "code",
   "execution_count": 2,
   "metadata": {
    "id": "CxJpLIEohr4r"
   },
   "outputs": [],
   "source": [
    "\n",
    "def HessianMLE(beta,data):\n",
    "    \n",
    "    '''Function should return the Hessian (see https://en.wikipedia.org/wiki/Hessian_matrix) \n",
    "    of the log likelihood at a particular value of the weights beta'''\n",
    "    intercept = np.ones((data.shape[0], 1)) # initialize intercept to 1\n",
    "    xi = np.concatenate((intercept, data), axis=1)\n",
    "    (n, m) = xi.shape\n",
    "    A = np.eye(n)\n",
    "    for j in range(n):\n",
    "      h,_= sigmoid(xi[j].dot(beta))\n",
    "      A[j, j] = h * (1 - h) + 0.0001\n",
    "    HessianMatrix = xi.T.dot(A).dot(xi)\n",
    "\n",
    "    \n",
    "    return HessianMatrix\n",
    "   "
   ]
  },
  {
   "cell_type": "markdown",
   "metadata": {
    "id": "QoXAeQbehr4r"
   },
   "source": [
    "Then complete the function 'Fisher_scoring' which should learn a logistic regression classifier based on the second order Fisher iterations. "
   ]
  },
  {
   "cell_type": "code",
   "execution_count": 3,
   "metadata": {
    "id": "mCYZWXKphr4s"
   },
   "outputs": [],
   "source": [
    "from numpy import linalg\n",
    "def Fisher_scoring(beta0, maxIter, eta,data,y):\n",
    "    \n",
    "    '''Function should compute the logistic regression classifier by relying on Fisher scoring\n",
    "    iterates should start at beta0 and be applied with a learning eta'''\n",
    "    betaPrevious = beta0\n",
    "    numIter = 0\n",
    "    intercept = np.ones((data.shape[0], 1)) # initialize intercept to 1\n",
    "    xi = np.concatenate((intercept, data), axis=1)\n",
    "\n",
    "    while numIter<maxIter:\n",
    "        temp,_ = sigmoid(xi.dot(betaPrevious))\n",
    "        gradient = xi.T.dot(temp - y)\n",
    "    \n",
    "        hessian_beta = HessianMLE(betaPrevious,data)\n",
    "        if np.any(np.linalg.eig(hessian_beta) != 0):\n",
    "            invHessian = np.linalg.inv(hessian_beta) \n",
    "        else:\n",
    "            print('Error')\n",
    "        \n",
    "        betaNext = betaPrevious - eta*np.matmul(invHessian,gradient)\n",
    "        betaPrevious = betaNext\n",
    "        numIter +=1\n",
    "\n",
    "    optimal_beta = betaNext\n",
    "\n",
    "    return optimal_beta"
   ]
  },
  {
   "cell_type": "markdown",
   "metadata": {
    "id": "024yN8AUhr4t"
   },
   "source": [
    "#### Question 1.3 Comparing the two approaches. (5pts)\n",
    "\n",
    "Compare the simple (first order) gradient iterations with the (second order) Fisher iterations for the dataset given below. Plot the evolution of the log likelihood through the iterations, for both methods.  "
   ]
  },
  {
   "cell_type": "code",
   "execution_count": 4,
   "metadata": {
    "colab": {
     "base_uri": "https://localhost:8080/",
     "height": 265
    },
    "id": "0s7dIl7-hr4t",
    "outputId": "fe434a78-5614-4a2a-c051-0292623720f0"
   },
   "outputs": [
    {
     "data": {
      "image/png": "[encoded data removed]",
      "text/plain": [
       "<Figure size 432x288 with 1 Axes>"
      ]
     },
     "metadata": {
      "needs_background": "light"
     },
     "output_type": "display_data"
    }
   ],
   "source": [
    "import numpy as np\n",
    "import matplotlib.pyplot as plt\n",
    "\n",
    "import scipy.io\n",
    "class1 = scipy.io.loadmat('class1HW1_LR.mat')['class1']\n",
    "class2 = scipy.io.loadmat('class2HW1_LR.mat')['class2']\n",
    "\n",
    "targets_class1 = np.ones(np.shape(class1)[0])\n",
    "targets_class2 = np.zeros(np.shape(class2)[0])\n",
    "\n",
    "plt.scatter(class1[:,0], class1[:,1], c = 'r')\n",
    "plt.scatter(class2[:,0], class2[:,1], c = 'b')\n",
    "plt.show()"
   ]
  },
  {
   "cell_type": "code",
   "execution_count": 5,
   "metadata": {
    "id": "9stPCTOZ9LAj"
   },
   "outputs": [],
   "source": [
    "#construct data set\n",
    "data = np.concatenate((class1,class2),axis=0)\n",
    "y = np.concatenate((targets_class1,targets_class2),axis=0)"
   ]
  },
  {
   "cell_type": "code",
   "execution_count": 6,
   "metadata": {
    "id": "NzIiiZc--MHO"
   },
   "outputs": [],
   "source": [
    "beta0 = np.zeros(data.shape[1]+1)\n",
    "beta_log = solve_logisticRegression(data, y, beta0, 100, 0.1)  # get weight"
   ]
  },
  {
   "cell_type": "code",
   "execution_count": 7,
   "metadata": {
    "colab": {
     "base_uri": "https://localhost:8080/",
     "height": 265
    },
    "id": "R_uckSTN_BZ1",
    "outputId": "eac72e67-7f2d-430a-8a71-f8f85f907c73"
   },
   "outputs": [
    {
     "data": {
      "image/png": "[encoded data removed]",
      "text/plain": [
       "<Figure size 432x288 with 1 Axes>"
      ]
     },
     "metadata": {
      "needs_background": "light"
     },
     "output_type": "display_data"
    }
   ],
   "source": [
    "x1_plot = np.linspace(0, 5,100)\n",
    "x2_plot = ( -beta_log[1] * x1_plot - beta_log[0]) / beta_log[2] # construct boundary of classification\n",
    "plt.scatter(class1[:,0], class1[:,1], c = 'r') # plot the original data\n",
    "plt.scatter(class2[:,0], class2[:,1], c = 'b') # plot the original data\n",
    "plt.plot(x1_plot, x2_plot) # plot the boundary\n",
    "plt.show() "
   ]
  },
  {
   "cell_type": "markdown",
   "metadata": {
    "id": "iZSIGFde58ON"
   },
   "source": [
    "The second method"
   ]
  },
  {
   "cell_type": "code",
   "execution_count": 8,
   "metadata": {
    "id": "7Dr7VGGm59Ea"
   },
   "outputs": [],
   "source": [
    "beta_log_2 = Fisher_scoring(beta0, 100, 0.1,data,y)"
   ]
  },
  {
   "cell_type": "code",
   "execution_count": 9,
   "metadata": {
    "colab": {
     "base_uri": "https://localhost:8080/",
     "height": 265
    },
    "id": "Edm5WYyv7UpX",
    "outputId": "8e7bd164-4632-481c-e111-a9ea7f6f1e13"
   },
   "outputs": [
    {
     "data": {
      "image/png": "[encoded data removed]",
      "text/plain": [
       "<Figure size 432x288 with 1 Axes>"
      ]
     },
     "metadata": {
      "needs_background": "light"
     },
     "output_type": "display_data"
    }
   ],
   "source": [
    "\n",
    "x3_plot = ( -beta_log_2[1] * x1_plot - beta_log_2[0]) / beta_log_2[2] # construct boundary of classification\n",
    "plt.scatter(class1[:,0], class1[:,1], c = 'r') # plot the original data\n",
    "plt.scatter(class2[:,0], class2[:,1], c = 'b') # plot the original data\n",
    "plt.plot(x1_plot, x3_plot,linestyle=\"--\",label = \"Fisher\") # plot the boundary\n",
    "plt.plot(x1_plot, x2_plot,label='GD') \n",
    "plt.legend()\n",
    "plt.show() "
   ]
  },
  {
   "cell_type": "markdown",
   "metadata": {
    "id": "bN7OYUSjhr4v"
   },
   "source": [
    "### Question 2. Convolutional nets and autonomous driving  (10pts)"
   ]
  },
  {
   "cell_type": "markdown",
   "metadata": {
    "id": "8_rbL_O0hr4v"
   },
   "source": [
    "In this second question, we will use [the Keras API](https://keras.io/) to build and train a convolutional neural network to discriminate between four types of road signs. To simplify we will consider 4 different signs: \n",
    "\n",
    "- A '30 km/h' sign (folder 1)\n",
    "- A 'Stop' sign \n",
    "- A 'Go straight' sign\n",
    "- A 'Keep left' sign \n",
    "\n",
    "\n",
    "<img src=\"learning2Drive.jpeg\" style=\"width:400px\">\n"
   ]
  },
  {
   "cell_type": "markdown",
   "metadata": {
    "id": "_QmZ1Mwyhr4v"
   },
   "source": [
    "An example of each sign is given below."
   ]
  },
  {
   "cell_type": "code",
   "execution_count": 10,
   "metadata": {
    "colab": {
     "base_uri": "https://localhost:8080/",
     "height": 106
    },
    "id": "s4IHy8o8hr4w",
    "outputId": "457413c0-9dcc-46e5-a600-6a27cd45f4b5"
   },
   "outputs": [
    {
     "data": {
      "image/png": "[encoded data removed]",
      "text/plain": [
       "<Figure size 432x288 with 4 Axes>"
      ]
     },
     "metadata": {
      "needs_background": "light"
     },
     "output_type": "display_data"
    }
   ],
   "source": [
    "\n",
    "import matplotlib.pyplot as plt\n",
    "import matplotlib.image as mpimg\n",
    "\n",
    "img1 = mpimg.imread('1/00001_00000_00012.png')\n",
    "plt.subplot(141)\n",
    "plt.imshow(img1)\n",
    "plt.axis('off')\n",
    "plt.subplot(142)\n",
    "img2 = mpimg.imread('2/00014_00001_00019.png')\n",
    "plt.imshow(img2)\n",
    "plt.axis('off')\n",
    "plt.subplot(143)\n",
    "img3 = mpimg.imread('3/00035_00008_00023.png')\n",
    "plt.imshow(img3)\n",
    "plt.axis('off')\n",
    "plt.subplot(144)\n",
    "img4 = mpimg.imread('4/00039_00000_00029.png')\n",
    "plt.imshow(img4)\n",
    "plt.axis('off')\n",
    "plt.show()"
   ]
  },
  {
   "cell_type": "markdown",
   "metadata": {
    "id": "n_yTTdOLhr4w"
   },
   "source": [
    "### Question 2.1. (Constructing the network 5pts) \n",
    "\n",
    "In this first part, we will set up the convolutional net step by step.\n",
    "\n",
    "- Before building the network, you should start by cropping the images so that they all have a common predefined size (take the smallest size across all images) \n",
    "\n",
    "\n",
    "- We will use a __Sequential model__ from Keras but it will be up to you to define the final structure of the network. The construction of a sequential model should be started with the following line "
   ]
  },
  {
   "cell_type": "code",
   "execution_count": 11,
   "metadata": {
    "id": "QGNRW8QukBdB"
   },
   "outputs": [],
   "source": [
    "#read data\n",
    "def read_picture(path,n_H,n_W,n_C):\n",
    "    import os\n",
    "    from PIL import Image\n",
    "    import numpy as np\n",
    "    import matplotlib.pyplot as plt\n",
    "    #function: get the picture of path, and turn it into the array with the shape of [m,n_H,n_W,n_C]\n",
    "    #path:str, path of the picture\n",
    "    #n_C:int,dimension of the picture，white and black with the input of 1，rgb with the input of 3\n",
    "    #datas：return the array (matrix) with the dimension of（m，n_H,n_W,n_C）\n",
    "    datas=[]\n",
    "    x_dirs=os.listdir(path)\n",
    "    for x_file in x_dirs:\n",
    "        fpath=os.path.join(path,x_file)\n",
    "        if n_C == 1 :\n",
    "            _x=Image.open(fpath).convert(\"L\")\n",
    "        elif n_C ==3:\n",
    "            _x=Image.open(fpath)\n",
    "            _x=_x.resize((n_W,n_H))\n",
    "        else:\n",
    "            print(\"Error：wrong picture dimensions\")\n",
    "        \n",
    "        # if need to zoom in/out the picture\n",
    "        '''\n",
    "        rat=0.8          #rate\n",
    "        n_W=int(rat*n_W)\n",
    "        n_H=int(rat*n_H)\n",
    "          #give data to n_W,n_H to change the size of pictures\n",
    "        '''\n",
    "        datas.append(np.array(_x))\n",
    "        #datas.append(np.transpose(np.array(_x), (2,0,1)))\n",
    "        _x.close()  \n",
    "    datas=np.array(datas)\n",
    "    \n",
    "    m=datas.shape[0]\n",
    "    datas=datas.reshape((m,n_H,n_W,n_C))\n",
    "    #print(datas.shape)\n",
    "    \n",
    "    return datas\n"
   ]
  },
  {
   "cell_type": "code",
   "execution_count": 12,
   "metadata": {
    "id": "na4__bkAlt-A"
   },
   "outputs": [],
   "source": [
    "# read four files, and combine the data, and create the data set\n",
    "path_list = [\"./1\",\"./2\",\"./3\",\"./4\"]\n",
    "i = 0 \n",
    "for path in path_list:\n",
    "  if i == 0:\n",
    "    datas = read_picture(path,28,28,3)\n",
    "    labels = np.full((datas.shape[0],1), int(path[-1]))\n",
    "    i +=1\n",
    "  else:\n",
    "    data = read_picture(path,28,28,3)\n",
    "    label = np.full((data.shape[0],1), int(path[-1]))\n",
    "    datas = np.concatenate((datas,data),axis = 0)\n",
    "    labels = np.concatenate((labels,label),axis = 0)\n",
    "  "
   ]
  },
  {
   "cell_type": "code",
   "execution_count": 13,
   "metadata": {
    "colab": {
     "base_uri": "https://localhost:8080/"
    },
    "id": "rfvepyBdsxQc",
    "outputId": "6d66394f-32bc-4c34-c7dd-558133d3a93a"
   },
   "outputs": [
    {
     "name": "stdout",
     "output_type": "stream",
     "text": [
      "data shape (4500, 28, 28, 3), label shape (4500, 1)\n"
     ]
    }
   ],
   "source": [
    "print(\"data shape {}, label shape {}\".format(datas.shape,labels.shape))"
   ]
  },
  {
   "cell_type": "code",
   "execution_count": 14,
   "metadata": {
    "colab": {
     "base_uri": "https://localhost:8080/"
    },
    "id": "PowyNZB73NiZ",
    "outputId": "9a03885a-7d59-4ad4-e847-156fc680857c"
   },
   "outputs": [
    {
     "data": {
      "text/plain": [
       "array([[1., 0., 0., 0.],\n",
       "       [1., 0., 0., 0.],\n",
       "       [1., 0., 0., 0.],\n",
       "       ...,\n",
       "       [0., 0., 0., 1.],\n",
       "       [0., 0., 0., 1.],\n",
       "       [0., 0., 0., 1.]])"
      ]
     },
     "execution_count": 14,
     "metadata": {},
     "output_type": "execute_result"
    }
   ],
   "source": [
    "# set the label as onehot\n",
    "from sklearn.preprocessing import OneHotEncoder\n",
    "\n",
    "OneHote = OneHotEncoder()\n",
    "OneHote.fit([[1],[2],[3],[4]])\n",
    "labels_ = OneHote.transform(labels).toarray()\n",
    "labels_"
   ]
  },
  {
   "cell_type": "markdown",
   "metadata": {
    "id": "Nq0ZFd5phr4w"
   },
   "source": [
    "#### 2.1.a. Convolutions. \n",
    "\n",
    "- We will use a __convolutional__ architecture. you can add convolutional layers to the model by using the following lines "
   ]
  },
  {
   "cell_type": "code",
   "execution_count": null,
   "metadata": {
    "id": "ucC9x7qphr4x"
   },
   "outputs": [],
   "source": [
    "#from tensorflow.keras.models import Model\n",
    "model.add(Conv2D(num_units, (filter_size1, filter_size2), padding='same',\n",
    "                             input_shape=(3, IMG_SIZE, IMG_SIZE),\n",
    "                             activation='relu'))\n",
    "                                        "
   ]
  },
  {
   "cell_type": "markdown",
   "metadata": {
    "id": "kuff677phr4x"
   },
   "source": [
    "for the first layer and                     "
   ]
  },
  {
   "cell_type": "code",
   "execution_count": null,
   "metadata": {
    "id": "1fFtQ0bXhr4x"
   },
   "outputs": [],
   "source": [
    "model.add(Conv2D(filters, filter_size, activation, input_shape)"
   ]
  },
  {
   "cell_type": "markdown",
   "metadata": {
    "id": "PSETL2Buhr4x"
   },
   "source": [
    "for all the other layers. The 'filters' parameter indicates the number of filters you want to use in the layer. 'filter_size' encodes the size of each filter and 'activation' can be used to specify the activation function that will be applied to the output of the layer, i.e.\n",
    "\n",
    "$$x_{\\text{out}} = \\sigma(\\text{filter}*\\text{input}).$$ \n",
    "\n",
    "Finally 'input_shape' encodes the size of the input. Note that the input layer is the only layer for which the input size should be explicitely specified. Subsequent layers will automatically compute the size of their inputs based on the outputs of the previous layers. "
   ]
  },
  {
   "cell_type": "markdown",
   "metadata": {
    "id": "OcwlGiTnhr4x"
   },
   "source": [
    "#### 2.1.b Pooling Layers \n",
    "\n",
    "On top of the convolutional layers, convolutional neural networks (CNN) also involve __Pooling layers__. The addition of such layer can be done through the following line "
   ]
  },
  {
   "cell_type": "code",
   "execution_count": null,
   "metadata": {
    "id": "QuO1wFPkhr4y"
   },
   "outputs": [],
   "source": [
    " model.add(MaxPooling2D(pool_size=(filter_sz1, filter_sz2),strides=None))"
   ]
  },
  {
   "cell_type": "markdown",
   "metadata": {
    "id": "LP_iMDvXhr4y"
   },
   "source": [
    "The __pooling layers__ come with two parameters: the 'pool size' and the 'stride'. The basic choice for the pool size is (2,2) and the stride is usually set to None (which means it will split the image into non overlapping regions such as in the Figure below). You should however feel free to play a little with those parameters. A __Max Pooling operator__ slides a mask of size 'pool_size' over the image by a number of pixels equal to the stride parameters (in x and y, there are hence two translation parameters). for each position of the mask, the output then returns the max of the pixels appearing in the mask (again, see the Figure below). One way to understand the effect of a pooling operator is that when the filter detects an edge in a subregion of the image (thus returning at least one large value), although the MaxPooling operation will reduce the resolution, it will keep track of this information.    \n",
    "\n",
    "Adding 'Maxpooling' layers is known to work well in practice for image processing tasks. "
   ]
  },
  {
   "cell_type": "markdown",
   "metadata": {
    "id": "UoY-pCGDhr4y"
   },
   "source": [
    "<img src=\"Maxpool.png\" style=\"width:500px\">\n"
   ]
  },
  {
   "cell_type": "markdown",
   "metadata": {
    "id": "5K1QBnpvhr4y"
   },
   "source": [
    "Although it is up to you to decide how you want to structure the network, a good start is to add a couple (definitely not exceeding 4) combinations (convolution, convolution, Pooling) with an increasing number of units per layer (you can for example consider a number of units increasing according to powers of 2 such as 16, 32, 128,...). "
   ]
  },
  {
   "cell_type": "markdown",
   "metadata": {
    "id": "tmXClD2Khr4y"
   },
   "source": [
    "#### 2.1.c. Flattening and Fully connected layers\n",
    "\n",
    "Once you have stacked the convolutional and pooling layers, you should flatten the output through a line of the form"
   ]
  },
  {
   "cell_type": "code",
   "execution_count": null,
   "metadata": {
    "id": "Lm2D4G9Phr4y"
   },
   "outputs": [],
   "source": [
    "model.add(Flatten())"
   ]
  },
  {
   "cell_type": "markdown",
   "metadata": {
    "id": "9VdvB2LUhr4y"
   },
   "source": [
    "And add a couple (no need to put more than 2,3) dense fully connected layers through lines of the form"
   ]
  },
  {
   "cell_type": "code",
   "execution_count": null,
   "metadata": {
    "id": "4SZFu7tBhr4z"
   },
   "outputs": [],
   "source": [
    "model.add(Dense(num_units, activation='relu'))"
   ]
  },
  {
   "cell_type": "markdown",
   "metadata": {
    "id": "DVrhlHH2hr4z"
   },
   "source": [
    "#### 2.1.d. Concluding \n",
    "\n",
    "Since there are four possible signs, you need to __finish your network with a dense layer consisting of 4 units__. Each of those units should output a number between 0 and 1 representing the likelihood that any of the four signs is detected. Correspondingly those numbers should satisfy $n_1 + n_2 + n_3 + n_4 = 1$ (hopefully with one $n_i$ larger than the others). For this reason, a good choice for the __final activation function__ of those four units is the __softmax__ (Why?). \n",
    "\n",
    "\n",
    "Build your model below. "
   ]
  },
  {
   "cell_type": "code",
   "execution_count": 15,
   "metadata": {
    "colab": {
     "base_uri": "https://localhost:8080/"
    },
    "id": "1DIPacLwhr4z",
    "outputId": "8c5225ef-61e7-4b14-99a9-c0cdf2cd14f2"
   },
   "outputs": [
    {
     "name": "stdout",
     "output_type": "stream",
     "text": [
      "Model: \"sequential\"\n",
      "_________________________________________________________________\n",
      " Layer (type)                Output Shape              Param #   \n",
      "=================================================================\n",
      " conv2d (Conv2D)             (None, 28, 28, 32)        2432      \n",
      "                                                                 \n",
      " max_pooling2d (MaxPooling2D  (None, 14, 14, 32)       0         \n",
      " )                                                               \n",
      "                                                                 \n",
      " conv2d_1 (Conv2D)           (None, 14, 14, 64)        51264     \n",
      "                                                                 \n",
      " max_pooling2d_1 (MaxPooling  (None, 7, 7, 64)         0         \n",
      " 2D)                                                             \n",
      "                                                                 \n",
      " conv2d_2 (Conv2D)           (None, 7, 7, 128)         204928    \n",
      "                                                                 \n",
      " max_pooling2d_2 (MaxPooling  (None, 4, 4, 128)        0         \n",
      " 2D)                                                             \n",
      "                                                                 \n",
      " flatten (Flatten)           (None, 2048)              0         \n",
      "                                                                 \n",
      " dense (Dense)               (None, 625)               1280625   \n",
      "                                                                 \n",
      " dense_1 (Dense)             (None, 4)                 2504      \n",
      "                                                                 \n",
      "=================================================================\n",
      "Total params: 1,541,753\n",
      "Trainable params: 1,541,753\n",
      "Non-trainable params: 0\n",
      "_________________________________________________________________\n"
     ]
    }
   ],
   "source": [
    "from tensorflow.keras import Sequential\n",
    "from tensorflow.keras import layers\n",
    "model = Sequential()\n",
    "\n",
    "\n",
    "# construct the model using convolutional layers, dense fully connected layers and \n",
    "\n",
    "model.add(layers.Conv2D(32, (5, 5),padding='same',input_shape=(28, 28,3),activation='relu'))  # create the convolutional layer\n",
    "model.add(layers.MaxPool2D(pool_size=(2,2),strides=None))\n",
    "\n",
    "\n",
    "model.add(layers.Conv2D(64,(5,5),padding=\"same\",activation='relu'))  # create the convolutional layer\n",
    "model.add(layers.MaxPool2D(pool_size=(2,2)))   # construct the pooling layer\n",
    "\n",
    "model.add(layers.Conv2D(128,(5,5),padding=\"same\",activation='relu'))  # create the convolutional layer\n",
    "model.add(layers.MaxPool2D(pool_size=(2,2),padding=\"same\"))   # construct the pooling layer\n",
    "\n",
    "# create the classifier\n",
    "model.add(layers.Flatten())\n",
    "model.add(layers.Dense(625, activation='relu')) # full connected layer\n",
    "model.add(layers.Dense(4, activation='softmax')) # output\n",
    "\n",
    "# output the information of model's structure\n",
    "model.summary()\n",
    "\n"
   ]
  },
  {
   "cell_type": "markdown",
   "metadata": {
    "id": "HCDa8-I5hr4z"
   },
   "source": [
    "### Question 2.2. Setting up the optimizer (3pts).\n",
    "\n",
    "Once you have found a good architecture for your network, split the dataset, by retaining about 90% of the images for training and 10% for test. To train the network in Keras, we need two more steps. The first step will set up the optimizer. Here again it is up to you to decide how you want to set up the optimization. Two popular approaches are __SGD and ADAM__. You will get to choose the learning rate (although it is a good idea to take it between 1e-3 and 1e-2). Once you have set up the optimizer, you need to specify the loss (we will take it to be the __categorical cross entropy__ which is the extension of the log loss to the multiclass problem).   "
   ]
  },
  {
   "cell_type": "code",
   "execution_count": 16,
   "metadata": {
    "id": "K7OuVqEahr4z"
   },
   "outputs": [],
   "source": [
    "from tensorflow.keras.optimizers import SGD\n",
    "from tensorflow.keras.optimizers import Adam\n",
    "\n",
    "# set up the optimize here\n",
    "# Myoptimizer = SGD\n",
    "Myoptimizer = Adam(learning_rate=0.001) # set the learning rate\n",
    "\n",
    "model.compile(loss='categorical_crossentropy',\n",
    "              optimizer=Myoptimizer,\n",
    "              metrics=['accuracy'])"
   ]
  },
  {
   "cell_type": "markdown",
   "metadata": {
    "id": "2XpAQgOyhr4z"
   },
   "source": [
    "### Question 2.3 Optimization (2pts).\n",
    "\n",
    "Our last step will consist in fitting the network to the training set. Just as for any implementation in scikit-learn, we will rely on the function 'fit'. In image processing tasks, the training of convolutional neural networks is usually done by splitting the dataset into minibatches and using a different batch for each SGD iteration. This process is repeated over the whole dataset. A complete screening of the dataset is known as an 'epoch'. The complete training step then repeats several epochs. In keras the number of epochs is stored in the 'epochs' parameter of the function 'fit' and the batch size is stored in the 'batch_size' parameter. Plot the evolution of the loss through the SGD iterations. "
   ]
  },
  {
   "cell_type": "code",
   "execution_count": 17,
   "metadata": {
    "colab": {
     "base_uri": "https://localhost:8080/"
    },
    "id": "AWTUEzquhr4z",
    "outputId": "7cfc37b1-4e3c-4724-b49b-36d961beb5ef"
   },
   "outputs": [
    {
     "name": "stdout",
     "output_type": "stream",
     "text": [
      "Epoch 1/10\n",
      "108/108 [==============================] - 18s 158ms/step - loss: 2.6804 - accuracy: 0.8861 - val_loss: 0.0721 - val_accuracy: 0.9753\n",
      "Epoch 2/10\n",
      "108/108 [==============================] - 18s 167ms/step - loss: 0.0198 - accuracy: 0.9951 - val_loss: 0.0098 - val_accuracy: 0.9951\n",
      "Epoch 3/10\n",
      "108/108 [==============================] - 17s 158ms/step - loss: 0.0286 - accuracy: 0.9907 - val_loss: 0.0019 - val_accuracy: 1.0000\n",
      "Epoch 4/10\n",
      "108/108 [==============================] - 17s 156ms/step - loss: 0.0055 - accuracy: 0.9994 - val_loss: 0.0052 - val_accuracy: 0.9984\n",
      "Epoch 5/10\n",
      "108/108 [==============================] - 18s 166ms/step - loss: 0.0450 - accuracy: 0.9881 - val_loss: 0.0290 - val_accuracy: 0.9934\n",
      "Epoch 6/10\n",
      "108/108 [==============================] - 18s 166ms/step - loss: 0.0737 - accuracy: 0.9869 - val_loss: 0.0161 - val_accuracy: 0.9951\n",
      "Epoch 7/10\n",
      "108/108 [==============================] - 17s 161ms/step - loss: 0.0024 - accuracy: 0.9997 - val_loss: 6.1978e-04 - val_accuracy: 1.0000\n",
      "Epoch 8/10\n",
      "108/108 [==============================] - 17s 158ms/step - loss: 0.0022 - accuracy: 0.9997 - val_loss: 3.0076e-04 - val_accuracy: 1.0000\n",
      "Epoch 9/10\n",
      "108/108 [==============================] - 17s 159ms/step - loss: 1.4858e-04 - accuracy: 1.0000 - val_loss: 5.2840e-05 - val_accuracy: 1.0000\n",
      "Epoch 10/10\n",
      "108/108 [==============================] - 17s 158ms/step - loss: 8.2985e-05 - accuracy: 1.0000 - val_loss: 3.8114e-05 - val_accuracy: 1.0000\n",
      "15/15 [==============================] - 1s 38ms/step - loss: 1.1609e-04 - accuracy: 1.0000\n"
     ]
    },
    {
     "data": {
      "text/plain": [
       "[0.00011608901695581153, 1.0]"
      ]
     },
     "execution_count": 17,
     "metadata": {},
     "output_type": "execute_result"
    }
   ],
   "source": [
    "from sklearn.model_selection import train_test_split\n",
    "batch_size = 32\n",
    "epochs = 10\n",
    "X_train, X_test, t_train, t_test = train_test_split(datas, labels_, test_size=0.1, random_state=1)\n",
    "history = model.fit(X_train, t_train, batch_size=batch_size, epochs=epochs, validation_split=0.15)\n",
    "model.evaluate(X_test, t_test)"
   ]
  },
  {
   "cell_type": "code",
   "execution_count": 18,
   "metadata": {
    "colab": {
     "base_uri": "https://localhost:8080/",
     "height": 609
    },
    "id": "ZgICD0_b-DYM",
    "outputId": "ef681c86-6320-4d52-e8a1-9b2ec94d9f42"
   },
   "outputs": [
    {
     "data": {
      "text/plain": [
       "<Figure size 432x288 with 0 Axes>"
      ]
     },
     "execution_count": 18,
     "metadata": {},
     "output_type": "execute_result"
    },
    {
     "data": {
      "image/png": "[encoded data removed]",
      "text/plain": [
       "<Figure size 432x288 with 1 Axes>"
      ]
     },
     "metadata": {
      "needs_background": "light"
     },
     "output_type": "display_data"
    },
    {
     "data": {
      "image/png": "[encoded data removed]",
      "text/plain": [
       "<Figure size 432x288 with 1 Axes>"
      ]
     },
     "metadata": {
      "needs_background": "light"
     },
     "output_type": "display_data"
    },
    {
     "data": {
      "text/plain": [
       "<Figure size 432x288 with 0 Axes>"
      ]
     },
     "metadata": {},
     "output_type": "display_data"
    }
   ],
   "source": [
    "acc=history.history['accuracy']\n",
    "val_acc=history.history['val_accuracy']\n",
    "loss=history.history['loss']\n",
    "val_loss=history.history['val_loss']\n",
    "\n",
    "epochs=range(len(acc)) # Get number of epochs\n",
    "\n",
    "# plot accuracy curve\n",
    "plt.plot(epochs, acc, 'r')\n",
    "plt.plot(epochs, val_acc, 'b')\n",
    "plt.title('Training and validation accuracy')\n",
    "plt.xlabel(\"Epochs\")\n",
    "plt.ylabel(\"Accuracy\")\n",
    "plt.legend([\"Accuracy\", \"Validation Accuracy\"])\n",
    "\n",
    "plt.figure()\n",
    "\n",
    "# plot loss curve\n",
    "plt.plot(epochs, loss, 'r')\n",
    "plt.plot(epochs, val_loss, 'b')\n",
    "plt.title('Training and validation loss')\n",
    "plt.xlabel(\"Epochs\")\n",
    "plt.ylabel(\"Loss\")\n",
    "plt.legend([\"Loss\", \"Validation Loss\"])\n",
    "\n",
    "plt.figure()\n"
   ]
  }
 ],
 "metadata": {
  "colab": {
   "name": "assignment2.ipynb",
   "provenance": []
  },
  "kernelspec": {
   "display_name": "Python 3 (ipykernel)",
   "language": "python",
   "name": "python3"
  },
  "language_info": {
   "codemirror_mode": {
    "name": "ipython",
    "version": 3
   },
   "file_extension": ".py",
   "mimetype": "text/x-python",
   "name": "python",
   "nbconvert_exporter": "python",
   "pygments_lexer": "ipython3",
   "version": "3.9.7"
  }
 },
 "nbformat": 4,
 "nbformat_minor": 1
}
